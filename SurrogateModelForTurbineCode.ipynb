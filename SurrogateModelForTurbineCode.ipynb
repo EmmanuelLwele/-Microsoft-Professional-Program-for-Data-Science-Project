{
  "nbformat": 4,
  "nbformat_minor": 0,
  "metadata": {
    "colab": {
      "provenance": [],
      "authorship_tag": "ABX9TyP8vi3mbEwkWco74G/biXCO",
      "include_colab_link": true
    },
    "kernelspec": {
      "name": "python3",
      "display_name": "Python 3"
    },
    "language_info": {
      "name": "python"
    }
  },
  "cells": [
    {
      "cell_type": "markdown",
      "metadata": {
        "id": "view-in-github",
        "colab_type": "text"
      },
      "source": [
        "<a href=\"https://colab.research.google.com/github/EmmanuelLwele/-Microsoft-Professional-Program-for-Data-Science-Project/blob/master/SurrogateModelForTurbineCode.ipynb\" target=\"_parent\"><img src=\"https://colab.research.google.com/assets/colab-badge.svg\" alt=\"Open In Colab\"/></a>"
      ]
    },
    {
      "cell_type": "code",
      "execution_count": 3,
      "metadata": {
        "id": "4CUoEap7ifPl"
      },
      "outputs": [],
      "source": [
        "import numpy as np\n",
        "from sklearn.model_selection import train_test_split\n",
        "from sklearn.ensemble import RandomForestRegressor\n",
        "from sklearn.metrics import mean_squared_error\n",
        "from tensorflow.keras.models import Sequential\n",
        "from tensorflow.keras.layers import Conv1D, MaxPooling1D, Flatten, Dense\n",
        "from pyDOE import lhs\n",
        "import matplotlib.pyplot as plt"
      ]
    },
    {
      "cell_type": "code",
      "source": [
        "# Function to generate turbine dataset\n",
        "def generate_turbine_dataset(num_samples):\n",
        "    # Generate inputs (wind speed)\n",
        "    wind_speed = np.random.uniform(2, 20, size=(num_samples, 1))\n",
        "\n",
        "    # Generate outputs (turbine power)\n",
        "    turbine_power = 0.5 * wind_speed**3 + np.random.normal(0, 5, size=(num_samples, 1))\n",
        "\n",
        "    # Concatenate inputs and outputs\n",
        "    dataset = np.concatenate((wind_speed, turbine_power), axis=1)\n",
        "\n",
        "    return dataset\n"
      ],
      "metadata": {
        "id": "nw3lNx9njyoK"
      },
      "execution_count": 5,
      "outputs": []
    },
    {
      "cell_type": "code",
      "source": [],
      "metadata": {
        "id": "39nYfEsEk71g"
      },
      "execution_count": null,
      "outputs": []
    }
  ]
}